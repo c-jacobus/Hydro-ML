{
 "cells": [
  {
   "cell_type": "markdown",
   "id": "e27182b1",
   "metadata": {},
   "source": [
    "# HDF5 in Python using h5py\n",
    "\n",
    "Here are some examples using our simulation data with the h5py interface."
   ]
  },
  {
   "cell_type": "code",
   "execution_count": 1,
   "id": "940b0d8a",
   "metadata": {
    "collapsed": false,
    "jupyter": {
     "outputs_hidden": false
    }
   },
   "outputs": [
    {
     "name": "stdout",
     "output_type": "stream",
     "text": [
      "Populating the interactive namespace from numpy and matplotlib\n"
     ]
    }
   ],
   "source": [
    "%pylab inline"
   ]
  },
  {
   "cell_type": "code",
   "execution_count": 5,
   "id": "fb0bbc23",
   "metadata": {
    "collapsed": false,
    "jupyter": {
     "outputs_hidden": false
    }
   },
   "outputs": [],
   "source": [
    "# path to some lyaf hdf5 file\n",
    "h5_path = \"/pscratch/sd/p/pharring/Nyx_nbod2hydro/normalized_data/test.h5\""
   ]
  },
  {
   "cell_type": "markdown",
   "id": "90103cff",
   "metadata": {},
   "source": [
    "## HDF5 schema\n",
    "\n",
    "Our HDF5 use is pretty simple.\n",
    "We have some metadata and the simulation data is just unigrids (ignoring particle data).\n",
    "We store each quantity on the grid as a separate 3D dataset with the shape of the grid.\n",
    "Here's an example of what this looks like:"
   ]
  },
  {
   "cell_type": "code",
   "execution_count": 6,
   "id": "659e8373",
   "metadata": {
    "collapsed": false,
    "jupyter": {
     "outputs_hidden": false
    }
   },
   "outputs": [
    {
     "name": "stdout",
     "output_type": "stream",
     "text": [
      "Hydro                    Dataset {5, 1024, 1024, 1024}\n",
      "Nbody                    Dataset {4, 1024, 1024, 1024}\n"
     ]
    }
   ],
   "source": [
    "!h5ls $h5_path"
   ]
  },
  {
   "cell_type": "code",
   "execution_count": 7,
   "id": "5ba60ea6",
   "metadata": {
    "collapsed": false,
    "jupyter": {
     "outputs_hidden": false
    }
   },
   "outputs": [
    {
     "name": "stdout",
     "output_type": "stream",
     "text": [
      "native_fields**NOT FOUND** derived_fields**NOT FOUND** "
     ]
    }
   ],
   "source": [
    "!h5ls $h5_path/native_fields\n",
    "!h5ls $h5_path/derived_fields"
   ]
  },
  {
   "cell_type": "code",
   "execution_count": null,
   "id": "d2feeeec",
   "metadata": {
    "collapsed": false,
    "jupyter": {
     "outputs_hidden": false
    }
   },
   "outputs": [],
   "source": [
    "!h5dump -g domain -A $h5_path"
   ]
  },
  {
   "cell_type": "code",
   "execution_count": null,
   "id": "9789a2f9",
   "metadata": {
    "collapsed": false,
    "jupyter": {
     "outputs_hidden": false
    }
   },
   "outputs": [],
   "source": [
    "!h5dump -g universe -A $h5_path"
   ]
  },
  {
   "cell_type": "markdown",
   "id": "10628203",
   "metadata": {},
   "source": [
    "## h5py\n",
    "\n",
    "The standard HDF5 Python interface. Import it and create a file."
   ]
  },
  {
   "cell_type": "code",
   "execution_count": null,
   "id": "b9e7d381",
   "metadata": {
    "collapsed": false,
    "jupyter": {
     "outputs_hidden": false
    }
   },
   "outputs": [],
   "source": [
    "import h5py\n",
    "f = h5py.File(h5_path)\n",
    "print f"
   ]
  },
  {
   "cell_type": "markdown",
   "id": "06e59738",
   "metadata": {},
   "source": [
    "## Reading full dataset\n",
    "\n",
    "If you want to read an entire field into memory (fine up to 512^3), use the value attribute of the dataset object."
   ]
  },
  {
   "cell_type": "code",
   "execution_count": null,
   "id": "e801fa6a",
   "metadata": {
    "collapsed": false,
    "jupyter": {
     "outputs_hidden": false
    }
   },
   "outputs": [],
   "source": [
    "rho_b_dataset = f[\"native_fields/baryon_density\"]\n",
    "rho_b = rho_b_dataset.value\n",
    "print \"dataset\"\n",
    "print rho_b_dataset\n",
    "print \"some data\"\n",
    "print rho_b[0, 0, 0:10]"
   ]
  },
  {
   "cell_type": "markdown",
   "id": "b4cf07cb",
   "metadata": {},
   "source": [
    "## Slice datasets\n",
    "\n",
    "h5py dataset objects support slicing.\n",
    "This way you can read/write only the parts you need."
   ]
  },
  {
   "cell_type": "code",
   "execution_count": null,
   "id": "5bf01eee",
   "metadata": {
    "collapsed": false,
    "jupyter": {
     "outputs_hidden": false
    }
   },
   "outputs": [],
   "source": [
    "# select skewer\n",
    "rhob_skewer = rho_b_dataset[10, 10]\n",
    "print rhob_skewer.shape\n",
    "plot(np.log10(rhob_skewer))"
   ]
  },
  {
   "cell_type": "code",
   "execution_count": null,
   "id": "5b401c5c",
   "metadata": {
    "collapsed": false,
    "jupyter": {
     "outputs_hidden": false
    }
   },
   "outputs": [],
   "source": [
    "# select 2d slice\n",
    "rhob_slice = rho_b_dataset[0:100, 50]\n",
    "print rhob_slice.shape\n",
    "imshow(np.log10(rhob_slice).T, aspect=\"equal\")"
   ]
  },
  {
   "cell_type": "code",
   "execution_count": null,
   "id": "bfc07ce1",
   "metadata": {
    "collapsed": false,
    "jupyter": {
     "outputs_hidden": false
    }
   },
   "outputs": [],
   "source": [
    "# select 3d slice, and project one axis\n",
    "rhob = rho_b_dataset[0:100, 40:60, 0:128]\n",
    "rhob_proj = rhob.mean(axis=1)\n",
    "imshow(np.log10(rhob_proj).T, aspect=\"equal\")"
   ]
  },
  {
   "cell_type": "code",
   "execution_count": null,
   "id": "ac29c281",
   "metadata": {
    "collapsed": false,
    "jupyter": {
     "outputs_hidden": false
    }
   },
   "outputs": [],
   "source": []
  }
 ],
 "metadata": {
  "kernelspec": {
   "display_name": "NERSC Python",
   "language": "python",
   "name": "python3"
  },
  "language_info": {
   "codemirror_mode": {
    "name": "ipython",
    "version": 3
   },
   "file_extension": ".py",
   "mimetype": "text/x-python",
   "name": "python",
   "nbconvert_exporter": "python",
   "pygments_lexer": "ipython3",
   "version": "3.9.7"
  }
 },
 "nbformat": 4,
 "nbformat_minor": 5
}

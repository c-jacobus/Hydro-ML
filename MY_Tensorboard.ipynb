{
 "cells": [
  {
   "cell_type": "code",
   "execution_count": 13,
   "id": "80440fab-044c-4c0c-8717-e44a488f10f3",
   "metadata": {},
   "outputs": [],
   "source": [
    "import nersc_tensorboard_helper\n",
    "import os"
   ]
  },
  {
   "cell_type": "code",
   "execution_count": 14,
   "id": "44fffaf4-9264-448d-bdfd-dace2e998e6e",
   "metadata": {},
   "outputs": [
    {
     "name": "stdout",
     "output_type": "stream",
     "text": [
      "The tensorboard extension is already loaded. To reload it, use:\n",
      "  %reload_ext tensorboard\n"
     ]
    }
   ],
   "source": [
    "%load_ext tensorboard"
   ]
  },
  {
   "cell_type": "code",
   "execution_count": 18,
   "id": "fc06c0fd-98d6-4c51-9b4b-7e8753951362",
   "metadata": {},
   "outputs": [],
   "source": [
    "log_dir = os.path.expandvars('/pscratch/sd/c/cjacobus/ml-pm-training-2022/logs')\n",
    "#/global/cscratch1/sd/cjacobus/ml-pm-training-2022/logs\n",
    "#/pscratch/sd/c/cjacobus/ml-pm-training-2022/logs"
   ]
  },
  {
   "cell_type": "code",
   "execution_count": 19,
   "id": "24ebeae1-fd2d-4f1b-b5fa-661b0832e98d",
   "metadata": {},
   "outputs": [],
   "source": [
    "%%capture\n",
    "%tensorboard --logdir $log_dir --port 0"
   ]
  },
  {
   "cell_type": "code",
   "execution_count": 20,
   "id": "0b2339b2-d4dc-44e6-91e7-c23fdd86c4c9",
   "metadata": {},
   "outputs": [
    {
     "data": {
      "text/html": [
       "<a href=\"https://jupyter.nersc.gov/user/cjacobus/perlmutter-shared-node-cpu/proxy/36413/\">https://jupyter.nersc.gov/user/cjacobus/perlmutter-shared-node-cpu/proxy/36413/</a>"
      ],
      "text/plain": [
       "<IPython.core.display.HTML object>"
      ]
     },
     "metadata": {},
     "output_type": "display_data"
    }
   ],
   "source": [
    "nersc_tensorboard_helper.tb_address()"
   ]
  },
  {
   "cell_type": "code",
   "execution_count": 19,
   "id": "d9fb3eb7-c125-4671-9e40-8c290d49e172",
   "metadata": {},
   "outputs": [],
   "source": [
    "import tensorflow.compat.v1 as tf"
   ]
  },
  {
   "cell_type": "code",
   "execution_count": 22,
   "id": "01d3f127-90ba-440f-bad7-e407fed3689c",
   "metadata": {},
   "outputs": [
    {
     "ename": "RuntimeError",
     "evalue": "v1.summary.FileWriter is not compatible with eager execution. Use `tf.summary.create_file_writer`,or a `with v1.Graph().as_default():` context",
     "output_type": "error",
     "traceback": [
      "\u001b[0;31m---------------------------------------------------------------------------\u001b[0m",
      "\u001b[0;31mRuntimeError\u001b[0m                              Traceback (most recent call last)",
      "\u001b[0;32m/tmp/ipykernel_138345/3207680924.py\u001b[0m in \u001b[0;36m<module>\u001b[0;34m\u001b[0m\n\u001b[0;32m----> 1\u001b[0;31m \u001b[0mfile_writer\u001b[0m \u001b[0;34m=\u001b[0m \u001b[0mtf\u001b[0m\u001b[0;34m.\u001b[0m\u001b[0msummary\u001b[0m\u001b[0;34m.\u001b[0m\u001b[0mFileWriter\u001b[0m\u001b[0;34m(\u001b[0m\u001b[0;34m'/global/cscratch1/sd/cjacobus/ml-pm-training-2022/logs'\u001b[0m\u001b[0;34m)\u001b[0m\u001b[0;34m\u001b[0m\u001b[0;34m\u001b[0m\u001b[0m\n\u001b[0m",
      "\u001b[0;32m/global/common/software/nersc/shasta2105/tensorflow/2.6.0/lib/python3.8/site-packages/tensorflow/python/summary/writer/writer.py\u001b[0m in \u001b[0;36m__init__\u001b[0;34m(self, logdir, graph, max_queue, flush_secs, graph_def, filename_suffix, session)\u001b[0m\n\u001b[1;32m    357\u001b[0m     \"\"\"\n\u001b[1;32m    358\u001b[0m     \u001b[0;32mif\u001b[0m \u001b[0mcontext\u001b[0m\u001b[0;34m.\u001b[0m\u001b[0mexecuting_eagerly\u001b[0m\u001b[0;34m(\u001b[0m\u001b[0;34m)\u001b[0m\u001b[0;34m:\u001b[0m\u001b[0;34m\u001b[0m\u001b[0;34m\u001b[0m\u001b[0m\n\u001b[0;32m--> 359\u001b[0;31m       raise RuntimeError(\n\u001b[0m\u001b[1;32m    360\u001b[0m           \u001b[0;34m\"v1.summary.FileWriter is not compatible with eager execution. \"\u001b[0m\u001b[0;34m\u001b[0m\u001b[0;34m\u001b[0m\u001b[0m\n\u001b[1;32m    361\u001b[0m           \u001b[0;34m\"Use `tf.summary.create_file_writer`,\"\u001b[0m\u001b[0;34m\u001b[0m\u001b[0;34m\u001b[0m\u001b[0m\n",
      "\u001b[0;31mRuntimeError\u001b[0m: v1.summary.FileWriter is not compatible with eager execution. Use `tf.summary.create_file_writer`,or a `with v1.Graph().as_default():` context"
     ]
    }
   ],
   "source": [
    "file_writer = tf.summary.FileWriter('/global/cscratch1/sd/cjacobus/ml-pm-training-2022/logs')"
   ]
  },
  {
   "cell_type": "code",
   "execution_count": null,
   "id": "68236a78-558e-45b5-825a-de130be4492c",
   "metadata": {},
   "outputs": [],
   "source": []
  }
 ],
 "metadata": {
  "kernelspec": {
   "display_name": "tensorflow-2.6.0",
   "language": "python",
   "name": "tensorflow-2.6.0"
  },
  "language_info": {
   "codemirror_mode": {
    "name": "ipython",
    "version": 3
   },
   "file_extension": ".py",
   "mimetype": "text/x-python",
   "name": "python",
   "nbconvert_exporter": "python",
   "pygments_lexer": "ipython3",
   "version": "3.8.12"
  }
 },
 "nbformat": 4,
 "nbformat_minor": 5
}

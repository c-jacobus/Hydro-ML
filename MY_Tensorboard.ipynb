{
 "cells": [
  {
   "cell_type": "code",
   "execution_count": 1,
   "id": "80440fab-044c-4c0c-8717-e44a488f10f3",
   "metadata": {},
   "outputs": [],
   "source": [
    "import nersc_tensorboard_helper\n",
    "import os\n"
   ]
  },
  {
   "cell_type": "code",
   "execution_count": 2,
   "id": "8851d66d-acc9-4006-82f4-68c291518222",
   "metadata": {},
   "outputs": [],
   "source": [
    "%load_ext tensorboard"
   ]
  },
  {
   "cell_type": "code",
   "execution_count": 3,
   "id": "42d1eddb-ddbc-4f52-8004-cfbe1e396593",
   "metadata": {},
   "outputs": [],
   "source": [
    "log_dir = os.path.expandvars('/pscratch/sd/c/cjacobus/ML_Hydro_train/logs/')\n",
    "#/global/cscratch1/sd/cjacobus/ml-pm-training-2022/logs\n",
    "#/pscratch/sd/c/cjacobus/ml-pm-training-2022/logs\n"
   ]
  },
  {
   "cell_type": "code",
   "execution_count": 6,
   "id": "24ebeae1-fd2d-4f1b-b5fa-661b0832e98d",
   "metadata": {},
   "outputs": [],
   "source": [
    "%%capture\n",
    "%tensorboard --logdir $log_dir --port 0"
   ]
  },
  {
   "cell_type": "code",
   "execution_count": 7,
   "id": "0b2339b2-d4dc-44e6-91e7-c23fdd86c4c9",
   "metadata": {},
   "outputs": [
    {
     "data": {
      "text/html": [
       "<a href=\"https://jupyter.nersc.gov/user/cjacobus/perlmutter-shared-node-cpu/proxy/33199/\">https://jupyter.nersc.gov/user/cjacobus/perlmutter-shared-node-cpu/proxy/33199/</a>"
      ],
      "text/plain": [
       "<IPython.core.display.HTML object>"
      ]
     },
     "metadata": {},
     "output_type": "display_data"
    }
   ],
   "source": [
    "nersc_tensorboard_helper.tb_address()"
   ]
  },
  {
   "cell_type": "code",
   "execution_count": null,
   "id": "68236a78-558e-45b5-825a-de130be4492c",
   "metadata": {},
   "outputs": [],
   "source": []
  }
 ],
 "metadata": {
  "kernelspec": {
   "display_name": "tensorflow-2.6.0",
   "language": "python",
   "name": "tensorflow-2.6.0"
  },
  "language_info": {
   "codemirror_mode": {
    "name": "ipython",
    "version": 3
   },
   "file_extension": ".py",
   "mimetype": "text/x-python",
   "name": "python",
   "nbconvert_exporter": "python",
   "pygments_lexer": "ipython3",
   "version": "3.8.12"
  }
 },
 "nbformat": 4,
 "nbformat_minor": 5
}
